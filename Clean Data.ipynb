{
 "cells": [
  {
   "cell_type": "code",
   "execution_count": 1,
   "metadata": {
    "collapsed": true
   },
   "outputs": [],
   "source": [
    "import json\n",
    "import os\n",
    "import pandas as pd"
   ]
  },
  {
   "cell_type": "code",
   "execution_count": 2,
   "metadata": {
    "collapsed": true
   },
   "outputs": [],
   "source": [
    "os.chdir('/Users/NorieK/Desktop/DePaul/Spring 2017/CSC 478/Group Project Dataset')"
   ]
  },
  {
   "cell_type": "code",
   "execution_count": 3,
   "metadata": {
    "collapsed": false
   },
   "outputs": [],
   "source": [
    "with open('yelp_academic_dataset_business.json', 'r', encoding = 'utf8') as f: \n",
    "    data = f.readlines()"
   ]
  },
  {
   "cell_type": "code",
   "execution_count": 4,
   "metadata": {
    "collapsed": false
   },
   "outputs": [],
   "source": [
    "data = map(lambda x: x.rstrip(), data)\n",
    "data_json_str = \"[\" + ','.join(data) + \"]\"\n",
    "business_data = pd.read_json(data_json_str)"
   ]
  },
  {
   "cell_type": "code",
   "execution_count": 5,
   "metadata": {
    "collapsed": true
   },
   "outputs": [],
   "source": [
    "business_data = business_data[pd.notnull(business_data['categories'])]\n",
    "business_data = business_data[business_data.is_open != 0]\n",
    "business_data = business_data.drop('is_open', 1)\n",
    "business_data = business_data.drop('type', 1)\n",
    "business_data = business_data[pd.notnull(business_data['attributes'])]\n",
    "business_data_state = business_data[business_data.state == ('NV')]"
   ]
  },
  {
   "cell_type": "code",
   "execution_count": 6,
   "metadata": {
    "collapsed": false
   },
   "outputs": [],
   "source": [
    "state_list = ['AZ', 'PA', 'NC', 'WI', 'OH', 'SC', 'IL', 'NY', 'VT']\n",
    "for i in state_list:\n",
    "    pa = business_data[business_data.state == (i)]\n",
    "    business_data_state = business_data_state.append(pa)"
   ]
  },
  {
   "cell_type": "code",
   "execution_count": 7,
   "metadata": {
    "collapsed": false
   },
   "outputs": [],
   "source": [
    "business_data = pd.DataFrame(business_data_state)"
   ]
  },
  {
   "cell_type": "code",
   "execution_count": 8,
   "metadata": {
    "collapsed": false
   },
   "outputs": [],
   "source": [
    "business_data = business_data.reset_index(drop=True)"
   ]
  },
  {
   "cell_type": "code",
   "execution_count": 9,
   "metadata": {
    "collapsed": false
   },
   "outputs": [],
   "source": [
    "categories = business_data.categories\n",
    "donotkeep = set()\n",
    "for i in range(0,len(business_data)):\n",
    "    if 'Restaurants' not in categories[i]:\n",
    "        donotkeep.add(i)\n",
    "donotkeep = list(donotkeep)\n",
    "business_data = business_data.drop(business_data.index[donotkeep])"
   ]
  },
  {
   "cell_type": "code",
   "execution_count": 10,
   "metadata": {
    "collapsed": false
   },
   "outputs": [],
   "source": [
    "business_data = business_data.reset_index(drop=True)"
   ]
  },
  {
   "cell_type": "code",
   "execution_count": 11,
   "metadata": {
    "collapsed": false
   },
   "outputs": [
    {
     "data": {
      "text/plain": [
       "(6859, 14)"
      ]
     },
     "execution_count": 11,
     "metadata": {},
     "output_type": "execute_result"
    }
   ],
   "source": [
    "business_data_AZ = business_data[business_data.state == ('AZ')]\n",
    "business_data_AZ = business_data_AZ.reset_index(drop=True)\n",
    "business_data_AZ.shape"
   ]
  },
  {
   "cell_type": "code",
   "execution_count": 12,
   "metadata": {
    "collapsed": false
   },
   "outputs": [
    {
     "data": {
      "text/plain": [
       "['RestaurantsAttire',\n",
       " 'RestaurantsPriceRange2',\n",
       " 'DogsAllowed',\n",
       " 'DriveThru',\n",
       " 'Alcohol',\n",
       " 'BYOB',\n",
       " 'WiFi',\n",
       " 'GoodForDancing',\n",
       " 'Caters',\n",
       " 'HairSpecializesIn',\n",
       " 'Smoking',\n",
       " 'GoodForKids',\n",
       " 'RestaurantsGoodForGroups',\n",
       " 'HappyHour',\n",
       " 'Music',\n",
       " 'RestaurantsCounterService',\n",
       " 'Open24Hours',\n",
       " 'NoiseLevel',\n",
       " 'ByAppointmentOnly',\n",
       " 'WheelchairAccessible',\n",
       " 'CoatCheck',\n",
       " 'RestaurantsReservations',\n",
       " 'RestaurantsDelivery',\n",
       " 'GoodForMeal',\n",
       " 'BusinessAcceptsBitcoin',\n",
       " 'BusinessAcceptsCreditCards',\n",
       " 'AgesAllowed',\n",
       " 'BYOBCorkage',\n",
       " 'RestaurantsTableService',\n",
       " 'Corkage',\n",
       " 'BusinessParking',\n",
       " 'HasTV',\n",
       " 'BestNights',\n",
       " 'RestaurantsTakeOut',\n",
       " 'AcceptsInsurance',\n",
       " 'Ambience',\n",
       " 'DietaryRestrictions',\n",
       " 'BikeParking',\n",
       " 'OutdoorSeating']"
      ]
     },
     "execution_count": 12,
     "metadata": {},
     "output_type": "execute_result"
    }
   ],
   "source": [
    "attributes = business_data.attributes\n",
    "#finding the listed topics in these businesses\n",
    "topics = set()\n",
    "bizdic = {}\n",
    "for biz in range(0,len(business_data_AZ)):\n",
    "    try:\n",
    "        each = attributes[biz] #each business in dataset\n",
    "        #bizdic.append(each)\n",
    "        each = [i.split(',')[0] for i in each]#splits everything listed\n",
    "        each = [i.split(':') for i in each] #splits the topic/answer\n",
    "        for terms in each:\n",
    "            topics.add(terms[0]) #print topic\n",
    "    except:\n",
    "        pass\n",
    "list(topics)"
   ]
  },
  {
   "cell_type": "code",
   "execution_count": 13,
   "metadata": {
    "collapsed": true
   },
   "outputs": [],
   "source": [
    "import distutils\n",
    "from distutils.util import strtobool\n",
    "outdoorSeating = []\n",
    "outdoorSeating_index = []\n",
    "counter = 0\n",
    "for i in range(0,len(business_data_AZ)):\n",
    "    for j in business_data_AZ.attributes[i]:\n",
    "        if 'OutdoorSeating' in j:\n",
    "            outdoorSeating.append([i, distutils.util.strtobool(j[16:])])\n",
    "            outdoorSeating_index.append(i)\n",
    "for k in range(len(business_data_AZ)):\n",
    "    if k not in outdoorSeating_index:\n",
    "        outdoorSeating.insert(k, None)\n",
    "os = []\n",
    "for i in outdoorSeating:\n",
    "    try:\n",
    "        os.append(i[1])\n",
    "    except:\n",
    "        os.append(None)\n",
    "se = pd.Series(os)\n",
    "business_data_AZ['OutdoorSeating'] = se.values"
   ]
  },
  {
   "cell_type": "code",
   "execution_count": 14,
   "metadata": {
    "collapsed": true
   },
   "outputs": [],
   "source": [
    "cc = []\n",
    "cc_index = []\n",
    "counter = 0\n",
    "for i in range(0,len(business_data_AZ)):\n",
    "    for j in business_data_AZ.attributes[i]:\n",
    "        if 'BusinessAcceptsCreditCards' in j:\n",
    "            cc.append([i, distutils.util.strtobool(j[28:])])\n",
    "            cc_index.append(i)\n",
    "for k in range(len(business_data_AZ)):\n",
    "    if k not in cc_index:\n",
    "        cc.insert(k, None)\n",
    "c = []\n",
    "for i in cc:\n",
    "    try:\n",
    "        c.append(i[1])\n",
    "    except:\n",
    "        c.append(None)\n",
    "se = pd.Series(c)\n",
    "business_data_AZ['CreditCard'] = se.values"
   ]
  },
  {
   "cell_type": "code",
   "execution_count": 15,
   "metadata": {
    "collapsed": true
   },
   "outputs": [],
   "source": [
    "to = []\n",
    "to_index = []\n",
    "counter = 0\n",
    "for i in range(0,len(business_data_AZ)):\n",
    "    for j in business_data_AZ.attributes[i]:\n",
    "        if 'RestaurantsTakeOut' in j:\n",
    "            to.append([i, distutils.util.strtobool(j[20:])])\n",
    "            to_index.append(i)\n",
    "for k in range(len(business_data_AZ)):\n",
    "    if k not in to_index:\n",
    "        to.insert(k, None)\n",
    "t = []\n",
    "for i in to:\n",
    "    try:\n",
    "        t.append(i[1])\n",
    "    except:\n",
    "        t.append(None)\n",
    "se = pd.Series(t)\n",
    "business_data_AZ['TakeOut'] = se.values"
   ]
  },
  {
   "cell_type": "code",
   "execution_count": 16,
   "metadata": {
    "collapsed": true
   },
   "outputs": [],
   "source": [
    "group = []\n",
    "group_index = []\n",
    "counter = 0\n",
    "for i in range(0,len(business_data_AZ)):\n",
    "    for j in business_data_AZ.attributes[i]:\n",
    "        if 'RestaurantsGoodForGroups' in j:\n",
    "            group.append([i, distutils.util.strtobool(j[26:])])\n",
    "            group_index.append(i)\n",
    "for k in range(len(business_data_AZ)):\n",
    "    if k not in group_index:\n",
    "        group.insert(k, None)\n",
    "g = []\n",
    "for i in group:\n",
    "    try:\n",
    "        g.append(i[1])\n",
    "    except:\n",
    "        g.append(None)\n",
    "se = pd.Series(g)\n",
    "business_data_AZ['Groups'] = se.values"
   ]
  },
  {
   "cell_type": "code",
   "execution_count": 17,
   "metadata": {
    "collapsed": true
   },
   "outputs": [],
   "source": [
    "kid = []\n",
    "kid_index = []\n",
    "counter = 0\n",
    "for i in range(0,len(business_data_AZ)):\n",
    "    for j in business_data_AZ.attributes[i]:\n",
    "        if 'GoodForKids' in j:\n",
    "            kid.append([i, distutils.util.strtobool(j[13:])])\n",
    "            kid_index.append(i)\n",
    "for k in range(len(business_data_AZ)):\n",
    "    if k not in kid_index:\n",
    "        kid.insert(k, None)\n",
    "kd = []\n",
    "for i in kid:\n",
    "    try:\n",
    "        kd.append(i[1])\n",
    "    except:\n",
    "        kd.append(None)\n",
    "se = pd.Series(kd)\n",
    "business_data_AZ['Kids'] = se.values"
   ]
  },
  {
   "cell_type": "code",
   "execution_count": 18,
   "metadata": {
    "collapsed": true
   },
   "outputs": [],
   "source": [
    "deliver = []\n",
    "deliver_index = []\n",
    "counter = 0\n",
    "for i in range(0,len(business_data_AZ)):\n",
    "    for j in business_data_AZ.attributes[i]:\n",
    "        if 'RestaurantsDelivery' in j:\n",
    "            deliver.append([i, distutils.util.strtobool(j[21:])])\n",
    "            deliver_index.append(i)\n",
    "for k in range(len(business_data_AZ)):\n",
    "    if k not in deliver_index:\n",
    "        deliver.insert(k, None)\n",
    "d = []\n",
    "for i in deliver:\n",
    "    try:\n",
    "        d.append(i[1])\n",
    "    except:\n",
    "        d.append(None)\n",
    "se = pd.Series(d)\n",
    "business_data_AZ['Delivery'] = se.values"
   ]
  },
  {
   "cell_type": "code",
   "execution_count": 19,
   "metadata": {
    "collapsed": true
   },
   "outputs": [],
   "source": [
    "res = []\n",
    "res_index = []\n",
    "counter = 0\n",
    "for i in range(0,len(business_data_AZ)):\n",
    "    for j in business_data_AZ.attributes[i]:\n",
    "        if 'RestaurantsReservations' in j:\n",
    "            res.append([i, distutils.util.strtobool(j[25:])])\n",
    "            res_index.append(i)\n",
    "for k in range(len(business_data_AZ)):\n",
    "    if k not in res_index:\n",
    "        res.insert(k, None)\n",
    "r = []\n",
    "for i in res:\n",
    "    try:\n",
    "        r.append(i[1])\n",
    "    except:\n",
    "        r.append(None)\n",
    "se = pd.Series(r)\n",
    "business_data_AZ['Reservations'] = se.values"
   ]
  },
  {
   "cell_type": "code",
   "execution_count": 20,
   "metadata": {
    "collapsed": true
   },
   "outputs": [],
   "source": [
    "price = []\n",
    "price_index = []\n",
    "counter = 0\n",
    "for i in range(0,len(business_data_AZ)):\n",
    "    for j in business_data_AZ.attributes[i]:\n",
    "        if 'RestaurantsPriceRange2' in j:\n",
    "            price.append([i, j[24:]])\n",
    "            price_index.append(i)\n",
    "for k in range(len(business_data_AZ)):\n",
    "    if k not in price_index:\n",
    "        price.insert(k, None)\n",
    "p = []\n",
    "for i in price:\n",
    "    try:\n",
    "        p.append(i[1])\n",
    "    except:\n",
    "        p.append(None)\n",
    "se = pd.Series(p)\n",
    "business_data_AZ['PriceRange'] = se.values"
   ]
  },
  {
   "cell_type": "code",
   "execution_count": 21,
   "metadata": {
    "collapsed": false
   },
   "outputs": [
    {
     "data": {
      "text/plain": [
       "(6104, 22)"
      ]
     },
     "execution_count": 21,
     "metadata": {},
     "output_type": "execute_result"
    }
   ],
   "source": [
    "business_data_AZ = business_data_AZ[pd.notnull(business_data_AZ['OutdoorSeating'])]\n",
    "business_data_AZ = business_data_AZ[pd.notnull(business_data_AZ['CreditCard'])]\n",
    "business_data_AZ = business_data_AZ[pd.notnull(business_data_AZ['TakeOut'])]\n",
    "business_data_AZ = business_data_AZ[pd.notnull(business_data_AZ['Groups'])]\n",
    "business_data_AZ = business_data_AZ[pd.notnull(business_data_AZ['Kids'])]\n",
    "business_data_AZ = business_data_AZ[pd.notnull(business_data_AZ['Delivery'])]\n",
    "business_data_AZ = business_data_AZ[pd.notnull(business_data_AZ['Reservations'])]\n",
    "business_data_AZ = business_data_AZ[pd.notnull(business_data_AZ['PriceRange'])]\n",
    "business_data_AZ.shape"
   ]
  },
  {
   "cell_type": "code",
   "execution_count": 22,
   "metadata": {
    "collapsed": false
   },
   "outputs": [
    {
     "data": {
      "text/html": [
       "<div>\n",
       "<table border=\"1\" class=\"dataframe\">\n",
       "  <thead>\n",
       "    <tr style=\"text-align: right;\">\n",
       "      <th></th>\n",
       "      <th>address</th>\n",
       "      <th>attributes</th>\n",
       "      <th>business_id</th>\n",
       "      <th>categories</th>\n",
       "      <th>city</th>\n",
       "      <th>hours</th>\n",
       "      <th>latitude</th>\n",
       "      <th>longitude</th>\n",
       "      <th>name</th>\n",
       "      <th>neighborhood</th>\n",
       "      <th>...</th>\n",
       "      <th>stars</th>\n",
       "      <th>state</th>\n",
       "      <th>OutdoorSeating</th>\n",
       "      <th>CreditCard</th>\n",
       "      <th>TakeOut</th>\n",
       "      <th>Groups</th>\n",
       "      <th>Kids</th>\n",
       "      <th>Delivery</th>\n",
       "      <th>Reservations</th>\n",
       "      <th>PriceRange</th>\n",
       "    </tr>\n",
       "  </thead>\n",
       "  <tbody>\n",
       "    <tr>\n",
       "      <th>0</th>\n",
       "      <td>11072 No Frank Lloyd Wright</td>\n",
       "      <td>[Alcohol: none, Ambience: {'romantic': False, ...</td>\n",
       "      <td>GDnbt3isfhd57T1QqU6flg</td>\n",
       "      <td>[Tex-Mex, Mexican, Fast Food, Restaurants]</td>\n",
       "      <td>Scottsdale</td>\n",
       "      <td>[Monday 10:0-22:0, Tuesday 10:0-22:0, Wednesda...</td>\n",
       "      <td>33.586710</td>\n",
       "      <td>-111.835410</td>\n",
       "      <td>Taco Bell</td>\n",
       "      <td></td>\n",
       "      <td>...</td>\n",
       "      <td>2.5</td>\n",
       "      <td>AZ</td>\n",
       "      <td>0.0</td>\n",
       "      <td>1.0</td>\n",
       "      <td>1.0</td>\n",
       "      <td>1.0</td>\n",
       "      <td>1.0</td>\n",
       "      <td>0.0</td>\n",
       "      <td>0.0</td>\n",
       "      <td>1</td>\n",
       "    </tr>\n",
       "    <tr>\n",
       "      <th>1</th>\n",
       "      <td>5646 W Bell Rd</td>\n",
       "      <td>[Alcohol: full_bar, Ambience: {'romantic': Fal...</td>\n",
       "      <td>Mi5uhdFB9OJteXPd0_IKfw</td>\n",
       "      <td>[Restaurants, Italian, Seafood]</td>\n",
       "      <td>Glendale</td>\n",
       "      <td>[Monday 16:0-22:0, Tuesday 16:0-22:0, Wednesda...</td>\n",
       "      <td>33.639301</td>\n",
       "      <td>-112.180893</td>\n",
       "      <td>Carrabba's Italian Grill</td>\n",
       "      <td></td>\n",
       "      <td>...</td>\n",
       "      <td>3.5</td>\n",
       "      <td>AZ</td>\n",
       "      <td>0.0</td>\n",
       "      <td>1.0</td>\n",
       "      <td>1.0</td>\n",
       "      <td>1.0</td>\n",
       "      <td>1.0</td>\n",
       "      <td>0.0</td>\n",
       "      <td>1.0</td>\n",
       "      <td>2</td>\n",
       "    </tr>\n",
       "    <tr>\n",
       "      <th>2</th>\n",
       "      <td>1220 S Central Ave</td>\n",
       "      <td>[Alcohol: full_bar, Ambience: {'romantic': Fal...</td>\n",
       "      <td>YPavuOh2XsnRbLfl0DH2lQ</td>\n",
       "      <td>[Restaurants, Waffles, Southern, Soul Food]</td>\n",
       "      <td>Phoenix</td>\n",
       "      <td>[Monday 9:0-22:0, Tuesday 9:0-22:0, Wednesday ...</td>\n",
       "      <td>33.435372</td>\n",
       "      <td>-112.073970</td>\n",
       "      <td>Lo-Lo's Chicken &amp; Waffles</td>\n",
       "      <td></td>\n",
       "      <td>...</td>\n",
       "      <td>4.0</td>\n",
       "      <td>AZ</td>\n",
       "      <td>1.0</td>\n",
       "      <td>1.0</td>\n",
       "      <td>1.0</td>\n",
       "      <td>1.0</td>\n",
       "      <td>1.0</td>\n",
       "      <td>0.0</td>\n",
       "      <td>0.0</td>\n",
       "      <td>2</td>\n",
       "    </tr>\n",
       "    <tr>\n",
       "      <th>3</th>\n",
       "      <td>3567 W Northern Ave</td>\n",
       "      <td>[Alcohol: none, Ambience: {'romantic': False, ...</td>\n",
       "      <td>hEcn9k6ONd5n2mq0lB2aew</td>\n",
       "      <td>[American (Traditional), Restaurants]</td>\n",
       "      <td>Phoenix</td>\n",
       "      <td>[Monday 6:0-22:0, Tuesday 6:0-22:0, Wednesday ...</td>\n",
       "      <td>33.552767</td>\n",
       "      <td>-112.135969</td>\n",
       "      <td>JB's Restaurant</td>\n",
       "      <td></td>\n",
       "      <td>...</td>\n",
       "      <td>3.5</td>\n",
       "      <td>AZ</td>\n",
       "      <td>0.0</td>\n",
       "      <td>1.0</td>\n",
       "      <td>1.0</td>\n",
       "      <td>1.0</td>\n",
       "      <td>1.0</td>\n",
       "      <td>0.0</td>\n",
       "      <td>0.0</td>\n",
       "      <td>1</td>\n",
       "    </tr>\n",
       "    <tr>\n",
       "      <th>4</th>\n",
       "      <td>2034 E Southern Ave</td>\n",
       "      <td>[Alcohol: full_bar, Ambience: {'romantic': Fal...</td>\n",
       "      <td>J3H6VSIgUTlACkb_HPFA8w</td>\n",
       "      <td>[Food, Restaurants, Breakfast &amp; Brunch, Coffee...</td>\n",
       "      <td>Mesa</td>\n",
       "      <td>[Monday 6:0-14:0, Tuesday 6:0-14:0, Wednesday ...</td>\n",
       "      <td>33.393917</td>\n",
       "      <td>-111.787272</td>\n",
       "      <td>Broken Yolk Cafe</td>\n",
       "      <td></td>\n",
       "      <td>...</td>\n",
       "      <td>3.5</td>\n",
       "      <td>AZ</td>\n",
       "      <td>0.0</td>\n",
       "      <td>1.0</td>\n",
       "      <td>1.0</td>\n",
       "      <td>1.0</td>\n",
       "      <td>1.0</td>\n",
       "      <td>0.0</td>\n",
       "      <td>0.0</td>\n",
       "      <td>2</td>\n",
       "    </tr>\n",
       "  </tbody>\n",
       "</table>\n",
       "<p>5 rows × 22 columns</p>\n",
       "</div>"
      ],
      "text/plain": [
       "                       address  \\\n",
       "0  11072 No Frank Lloyd Wright   \n",
       "1               5646 W Bell Rd   \n",
       "2           1220 S Central Ave   \n",
       "3          3567 W Northern Ave   \n",
       "4          2034 E Southern Ave   \n",
       "\n",
       "                                          attributes             business_id  \\\n",
       "0  [Alcohol: none, Ambience: {'romantic': False, ...  GDnbt3isfhd57T1QqU6flg   \n",
       "1  [Alcohol: full_bar, Ambience: {'romantic': Fal...  Mi5uhdFB9OJteXPd0_IKfw   \n",
       "2  [Alcohol: full_bar, Ambience: {'romantic': Fal...  YPavuOh2XsnRbLfl0DH2lQ   \n",
       "3  [Alcohol: none, Ambience: {'romantic': False, ...  hEcn9k6ONd5n2mq0lB2aew   \n",
       "4  [Alcohol: full_bar, Ambience: {'romantic': Fal...  J3H6VSIgUTlACkb_HPFA8w   \n",
       "\n",
       "                                          categories        city  \\\n",
       "0         [Tex-Mex, Mexican, Fast Food, Restaurants]  Scottsdale   \n",
       "1                    [Restaurants, Italian, Seafood]    Glendale   \n",
       "2        [Restaurants, Waffles, Southern, Soul Food]     Phoenix   \n",
       "3              [American (Traditional), Restaurants]     Phoenix   \n",
       "4  [Food, Restaurants, Breakfast & Brunch, Coffee...        Mesa   \n",
       "\n",
       "                                               hours   latitude   longitude  \\\n",
       "0  [Monday 10:0-22:0, Tuesday 10:0-22:0, Wednesda...  33.586710 -111.835410   \n",
       "1  [Monday 16:0-22:0, Tuesday 16:0-22:0, Wednesda...  33.639301 -112.180893   \n",
       "2  [Monday 9:0-22:0, Tuesday 9:0-22:0, Wednesday ...  33.435372 -112.073970   \n",
       "3  [Monday 6:0-22:0, Tuesday 6:0-22:0, Wednesday ...  33.552767 -112.135969   \n",
       "4  [Monday 6:0-14:0, Tuesday 6:0-14:0, Wednesday ...  33.393917 -111.787272   \n",
       "\n",
       "                        name neighborhood     ...     stars  state  \\\n",
       "0                  Taco Bell                  ...       2.5     AZ   \n",
       "1   Carrabba's Italian Grill                  ...       3.5     AZ   \n",
       "2  Lo-Lo's Chicken & Waffles                  ...       4.0     AZ   \n",
       "3            JB's Restaurant                  ...       3.5     AZ   \n",
       "4           Broken Yolk Cafe                  ...       3.5     AZ   \n",
       "\n",
       "   OutdoorSeating CreditCard  TakeOut  Groups  Kids  Delivery  Reservations  \\\n",
       "0             0.0        1.0      1.0     1.0   1.0       0.0           0.0   \n",
       "1             0.0        1.0      1.0     1.0   1.0       0.0           1.0   \n",
       "2             1.0        1.0      1.0     1.0   1.0       0.0           0.0   \n",
       "3             0.0        1.0      1.0     1.0   1.0       0.0           0.0   \n",
       "4             0.0        1.0      1.0     1.0   1.0       0.0           0.0   \n",
       "\n",
       "   PriceRange  \n",
       "0           1  \n",
       "1           2  \n",
       "2           2  \n",
       "3           1  \n",
       "4           2  \n",
       "\n",
       "[5 rows x 22 columns]"
      ]
     },
     "execution_count": 22,
     "metadata": {},
     "output_type": "execute_result"
    }
   ],
   "source": [
    "business_data_AZ.head()"
   ]
  }
 ],
 "metadata": {
  "anaconda-cloud": {},
  "kernelspec": {
   "display_name": "Python [conda root]",
   "language": "python",
   "name": "conda-root-py"
  },
  "language_info": {
   "codemirror_mode": {
    "name": "ipython",
    "version": 3
   },
   "file_extension": ".py",
   "mimetype": "text/x-python",
   "name": "python",
   "nbconvert_exporter": "python",
   "pygments_lexer": "ipython3",
   "version": "3.5.2"
  }
 },
 "nbformat": 4,
 "nbformat_minor": 1
}
