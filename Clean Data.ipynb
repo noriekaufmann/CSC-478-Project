{
 "cells": [
  {
   "cell_type": "code",
   "execution_count": 1,
   "metadata": {
    "collapsed": true
   },
   "outputs": [],
   "source": [
    "import json\n",
    "import os\n",
    "import pandas as pd"
   ]
  },
  {
   "cell_type": "code",
   "execution_count": 2,
   "metadata": {
    "collapsed": true
   },
   "outputs": [],
   "source": [
    "os.chdir('/Users/NorieK/Desktop/DePaul/Spring 2017/CSC 478/Group Project Dataset')"
   ]
  },
  {
   "cell_type": "code",
   "execution_count": 3,
   "metadata": {
    "collapsed": false
   },
   "outputs": [],
   "source": [
    "with open('yelp_academic_dataset_business.json', 'r', encoding = 'utf8') as f: \n",
    "    data = f.readlines()"
   ]
  },
  {
   "cell_type": "code",
   "execution_count": 4,
   "metadata": {
    "collapsed": false
   },
   "outputs": [],
   "source": [
    "data = map(lambda x: x.rstrip(), data)\n",
    "data_json_str = \"[\" + ','.join(data) + \"]\"\n",
    "business_data = pd.read_json(data_json_str)"
   ]
  },
  {
   "cell_type": "code",
   "execution_count": 5,
   "metadata": {
    "collapsed": true
   },
   "outputs": [],
   "source": [
    "business_data = business_data[pd.notnull(business_data['categories'])]\n",
    "business_data = business_data[business_data.is_open != 0]\n",
    "business_data = business_data.drop('is_open', 1)\n",
    "business_data = business_data.drop('type', 1)\n",
    "business_data = business_data[pd.notnull(business_data['attributes'])]\n",
    "business_data_state = business_data[business_data.state == ('NV')]"
   ]
  },
  {
   "cell_type": "code",
   "execution_count": 6,
   "metadata": {
    "collapsed": false
   },
   "outputs": [],
   "source": [
    "state_list = ['AZ', 'PA', 'NC', 'WI', 'OH', 'SC', 'IL', 'NY', 'VT']\n",
    "for i in state_list:\n",
    "    pa = business_data[business_data.state == (i)]\n",
    "    business_data_state = business_data_state.append(pa)"
   ]
  },
  {
   "cell_type": "code",
   "execution_count": 7,
   "metadata": {
    "collapsed": false
   },
   "outputs": [],
   "source": [
    "business_data = pd.DataFrame(business_data_state)"
   ]
  },
  {
   "cell_type": "code",
   "execution_count": 8,
   "metadata": {
    "collapsed": false
   },
   "outputs": [],
   "source": [
    "business_data = business_data.reset_index(drop=True)"
   ]
  },
  {
   "cell_type": "code",
   "execution_count": 9,
   "metadata": {
    "collapsed": false
   },
   "outputs": [],
   "source": [
    "categories = business_data.categories\n",
    "donotkeep = set()\n",
    "for i in range(0,len(business_data)):\n",
    "    if 'Restaurants' not in categories[i]:\n",
    "        donotkeep.add(i)\n",
    "donotkeep = list(donotkeep)\n",
    "business_data = business_data.drop(business_data.index[donotkeep])"
   ]
  },
  {
   "cell_type": "code",
   "execution_count": 10,
   "metadata": {
    "collapsed": false
   },
   "outputs": [],
   "source": [
    "business_data = business_data.reset_index(drop=True)"
   ]
  },
  {
   "cell_type": "code",
   "execution_count": 11,
   "metadata": {
    "collapsed": false
   },
   "outputs": [
    {
     "data": {
      "text/plain": [
       "(6859, 14)"
      ]
     },
     "execution_count": 11,
     "metadata": {},
     "output_type": "execute_result"
    }
   ],
   "source": [
    "business_data_AZ = business_data[business_data.state == ('AZ')]\n",
    "business_data_AZ = business_data_AZ.reset_index(drop=True)\n",
    "business_data_AZ.shape"
   ]
  }
 ],
 "metadata": {
  "anaconda-cloud": {},
  "kernelspec": {
   "display_name": "Python [conda root]",
   "language": "python",
   "name": "conda-root-py"
  },
  "language_info": {
   "codemirror_mode": {
    "name": "ipython",
    "version": 3
   },
   "file_extension": ".py",
   "mimetype": "text/x-python",
   "name": "python",
   "nbconvert_exporter": "python",
   "pygments_lexer": "ipython3",
   "version": "3.5.2"
  }
 },
 "nbformat": 4,
 "nbformat_minor": 1
}
