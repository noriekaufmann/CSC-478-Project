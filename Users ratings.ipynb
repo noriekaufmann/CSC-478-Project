{
 "cells": [
  {
   "cell_type": "code",
   "execution_count": 1,
   "metadata": {
    "collapsed": true
   },
   "outputs": [],
   "source": [
    "import json\n",
    "import os\n",
    "import pandas as pd\n",
    "import numpy as np"
   ]
  },
  {
   "cell_type": "code",
   "execution_count": 2,
   "metadata": {
    "collapsed": true
   },
   "outputs": [],
   "source": [
    "os.chdir('/Users/NorieK/Desktop/DePaul/Spring 2017/CSC 478/Group Project Dataset')"
   ]
  },
  {
   "cell_type": "code",
   "execution_count": 3,
   "metadata": {
    "collapsed": true
   },
   "outputs": [],
   "source": [
    "bu = pd.read_excel('business_user_rating.xlsx')"
   ]
  },
  {
   "cell_type": "code",
   "execution_count": 4,
   "metadata": {
    "collapsed": false
   },
   "outputs": [
    {
     "name": "stderr",
     "output_type": "stream",
     "text": [
      "/Users/NorieK/anaconda3/lib/python3.5/site-packages/ipykernel/__main__.py:1: FutureWarning: sort(columns=....) is deprecated, use sort_values(by=.....)\n",
      "  if __name__ == '__main__':\n"
     ]
    }
   ],
   "source": [
    "bu_c = bu.sort(columns = 'user_id', axis =0)"
   ]
  },
  {
   "cell_type": "code",
   "execution_count": 21,
   "metadata": {
    "collapsed": true
   },
   "outputs": [],
   "source": [
    "bu_u1 = bu_c[:100000] \n",
    "\n",
    "bu_u1 = bu_u1.pivot(index='business_id', columns='user_id', values='stars')"
   ]
  },
  {
   "cell_type": "code",
   "execution_count": 22,
   "metadata": {
    "collapsed": true
   },
   "outputs": [],
   "source": [
    "bu_u2 = bu_c[100001:200000] \n",
    "\n",
    "bu_u2 = bu_u2.pivot(index='business_id', columns='user_id', values='stars')"
   ]
  },
  {
   "cell_type": "code",
   "execution_count": 23,
   "metadata": {
    "collapsed": true
   },
   "outputs": [],
   "source": [
    "bu_u3 = bu_c[200001:300000] \n",
    "\n",
    "bu_u3 = bu_u3.pivot(index='business_id', columns='user_id', values='stars')"
   ]
  },
  {
   "cell_type": "code",
   "execution_count": 68,
   "metadata": {
    "collapsed": true
   },
   "outputs": [],
   "source": [
    "bu_u4 = bu_c[300001:400031] \n",
    "\n",
    "bu_u4 = bu_u4.pivot(index='business_id', columns='user_id', values='stars')"
   ]
  },
  {
   "cell_type": "code",
   "execution_count": 22,
   "metadata": {
    "collapsed": true
   },
   "outputs": [],
   "source": [
    "bu_u5 = bu_c[400032:500053] \n",
    "\n",
    "bu_u5 = bu_u5.pivot(index='business_id', columns='user_id', values='stars')"
   ]
  },
  {
   "cell_type": "code",
   "execution_count": 25,
   "metadata": {
    "collapsed": true
   },
   "outputs": [],
   "source": [
    "bu_u6 = bu_c[500054:600000] \n",
    "\n",
    "bu_u6 = bu_u6.pivot(index='business_id', columns='user_id', values='stars')"
   ]
  },
  {
   "cell_type": "code",
   "execution_count": 38,
   "metadata": {
    "collapsed": true
   },
   "outputs": [],
   "source": [
    "bu_u7 = bu_c[600001:700003] \n",
    "\n",
    "bu_u7 = bu_u7.pivot(index='business_id', columns='user_id', values='stars')"
   ]
  },
  {
   "cell_type": "code",
   "execution_count": 51,
   "metadata": {
    "collapsed": true
   },
   "outputs": [],
   "source": [
    "bu_u8 = bu_c[700004:800061] \n",
    "\n",
    "bu_u8 = bu_u8.pivot(index='business_id', columns='user_id', values='stars')"
   ]
  },
  {
   "cell_type": "code",
   "execution_count": 13,
   "metadata": {
    "collapsed": true
   },
   "outputs": [],
   "source": [
    "bu_u9 = bu_c[800062:900002] \n",
    "\n",
    "bu_u9 = bu_u9.pivot(index='business_id', columns='user_id', values='stars')"
   ]
  },
  {
   "cell_type": "code",
   "execution_count": 16,
   "metadata": {
    "collapsed": true
   },
   "outputs": [],
   "source": [
    "bu_u10 = bu_c[900003:] \n",
    "\n",
    "bu_u10 = bu_u10.pivot(index='business_id', columns='user_id', values='stars')"
   ]
  }
 ],
 "metadata": {
  "anaconda-cloud": {},
  "kernelspec": {
   "display_name": "Python [conda root]",
   "language": "python",
   "name": "conda-root-py"
  },
  "language_info": {
   "codemirror_mode": {
    "name": "ipython",
    "version": 3
   },
   "file_extension": ".py",
   "mimetype": "text/x-python",
   "name": "python",
   "nbconvert_exporter": "python",
   "pygments_lexer": "ipython3",
   "version": "3.5.2"
  }
 },
 "nbformat": 4,
 "nbformat_minor": 1
}
