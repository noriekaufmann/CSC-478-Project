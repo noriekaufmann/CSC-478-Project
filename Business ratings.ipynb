{
 "cells": [
  {
   "cell_type": "code",
   "execution_count": 1,
   "metadata": {
    "collapsed": true
   },
   "outputs": [],
   "source": [
    "import json\n",
    "import os\n",
    "import pandas as pd\n",
    "import numpy as np"
   ]
  },
  {
   "cell_type": "code",
   "execution_count": 2,
   "metadata": {
    "collapsed": true
   },
   "outputs": [],
   "source": [
    "os.chdir('/Users/NorieK/Desktop/DePaul/Spring 2017/CSC 478/Group Project Dataset')"
   ]
  },
  {
   "cell_type": "code",
   "execution_count": 3,
   "metadata": {
    "collapsed": true
   },
   "outputs": [],
   "source": [
    "bu = pd.read_excel('business_user_rating.xlsx')"
   ]
  },
  {
   "cell_type": "code",
   "execution_count": 4,
   "metadata": {
    "collapsed": false
   },
   "outputs": [
    {
     "name": "stderr",
     "output_type": "stream",
     "text": [
      "/Users/NorieK/anaconda3/lib/python3.5/site-packages/ipykernel/__main__.py:1: FutureWarning: sort(columns=....) is deprecated, use sort_values(by=.....)\n",
      "  if __name__ == '__main__':\n"
     ]
    }
   ],
   "source": [
    "bu = bu.sort(columns = 'business_id', axis =0)"
   ]
  },
  {
   "cell_type": "code",
   "execution_count": 5,
   "metadata": {
    "collapsed": false
   },
   "outputs": [],
   "source": [
    "bu1 = bu[:100009]\n",
    "\n",
    "bu1 = bu1.pivot(index='business_id', columns='user_id', values='stars')"
   ]
  },
  {
   "cell_type": "code",
   "execution_count": 8,
   "metadata": {
    "collapsed": true
   },
   "outputs": [],
   "source": [
    "bu2 = bu[1000010:200000]\n",
    "\n",
    "bu2 = bu2.pivot(index='business_id', columns='user_id', values='stars')"
   ]
  },
  {
   "cell_type": "code",
   "execution_count": 11,
   "metadata": {
    "collapsed": false
   },
   "outputs": [],
   "source": [
    "bu3 = bu[200001:300002]\n",
    "\n",
    "bu3 = bu3.pivot(index='business_id', columns='user_id', values='stars')"
   ]
  },
  {
   "cell_type": "code",
   "execution_count": 15,
   "metadata": {
    "collapsed": true
   },
   "outputs": [],
   "source": [
    "bu4 = bu[300003:400001]\n",
    "\n",
    "bu4 = bu4.pivot(index='business_id', columns='user_id', values='stars')"
   ]
  },
  {
   "cell_type": "code",
   "execution_count": 18,
   "metadata": {
    "collapsed": true
   },
   "outputs": [],
   "source": [
    "bu5 = bu[400002:500000]\n",
    "\n",
    "bu5 = bu5.pivot(index='business_id', columns='user_id', values='stars')"
   ]
  },
  {
   "cell_type": "code",
   "execution_count": 21,
   "metadata": {
    "collapsed": true
   },
   "outputs": [],
   "source": [
    "bu6 = bu[500001:600007]\n",
    "\n",
    "bu6 = bu6.pivot(index='business_id', columns='user_id', values='stars')"
   ]
  },
  {
   "cell_type": "code",
   "execution_count": 24,
   "metadata": {
    "collapsed": true
   },
   "outputs": [],
   "source": [
    "bu7 = bu[600008:700012]\n",
    "\n",
    "bu7 = bu7.pivot(index='business_id', columns='user_id', values='stars')"
   ]
  },
  {
   "cell_type": "code",
   "execution_count": 27,
   "metadata": {
    "collapsed": true
   },
   "outputs": [],
   "source": [
    "bu8 = bu[700013:800015]\n",
    "\n",
    "bu8 = bu8.pivot(index='business_id', columns='user_id', values='stars')"
   ]
  },
  {
   "cell_type": "code",
   "execution_count": 30,
   "metadata": {
    "collapsed": true
   },
   "outputs": [],
   "source": [
    "bu9 = bu[800016:899904]\n",
    "\n",
    "bu9 = bu9.pivot(index='business_id', columns='user_id', values='stars')"
   ]
  },
  {
   "cell_type": "code",
   "execution_count": 33,
   "metadata": {
    "collapsed": true
   },
   "outputs": [],
   "source": [
    "bu10 = bu[899905:]\n",
    "\n",
    "bu10 = bu10.pivot(index='business_id', columns='user_id', values='stars')"
   ]
  }
 ],
 "metadata": {
  "anaconda-cloud": {},
  "kernelspec": {
   "display_name": "Python [conda root]",
   "language": "python",
   "name": "conda-root-py"
  },
  "language_info": {
   "codemirror_mode": {
    "name": "ipython",
    "version": 3
   },
   "file_extension": ".py",
   "mimetype": "text/x-python",
   "name": "python",
   "nbconvert_exporter": "python",
   "pygments_lexer": "ipython3",
   "version": "3.5.2"
  }
 },
 "nbformat": 4,
 "nbformat_minor": 1
}
