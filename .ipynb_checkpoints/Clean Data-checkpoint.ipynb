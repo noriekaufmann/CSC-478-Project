{
 "cells": [
  {
   "cell_type": "code",
   "execution_count": 1,
   "metadata": {
    "collapsed": true
   },
   "outputs": [],
   "source": [
    "import json\n",
    "import os\n",
    "import pandas as pd"
   ]
  },
  {
   "cell_type": "code",
   "execution_count": 2,
   "metadata": {
    "collapsed": true
   },
   "outputs": [],
   "source": [
    "os.chdir('/Users/NorieK/Desktop/DePaul/Spring 2017/CSC 478/Group Project Dataset')"
   ]
  },
  {
   "cell_type": "code",
   "execution_count": 3,
   "metadata": {
    "collapsed": false
   },
   "outputs": [],
   "source": [
    "with open('yelp_academic_dataset_business.json', 'r', encoding = 'utf8') as f: \n",
    "    data = f.readlines()"
   ]
  },
  {
   "cell_type": "code",
   "execution_count": 4,
   "metadata": {
    "collapsed": false
   },
   "outputs": [],
   "source": [
    "data = map(lambda x: x.rstrip(), data)\n",
    "data_json_str = \"[\" + ','.join(data) + \"]\"\n",
    "business_data = pd.read_json(data_json_str)"
   ]
  },
  {
   "cell_type": "code",
   "execution_count": 5,
   "metadata": {
    "collapsed": true
   },
   "outputs": [],
   "source": [
    "business_data = business_data[pd.notnull(business_data['categories'])]\n",
    "business_data = business_data[business_data.is_open != 0]\n",
    "business_data = business_data.drop('is_open', 1)\n",
    "business_data = business_data.drop('type', 1)\n",
    "business_data = business_data[pd.notnull(business_data['attributes'])]\n",
    "business_data_state = business_data[business_data.state == ('NV')]"
   ]
  },
  {
   "cell_type": "code",
   "execution_count": 6,
   "metadata": {
    "collapsed": false
   },
   "outputs": [],
   "source": [
    "state_list = ['AZ', 'PA', 'NC', 'WI', 'OH', 'SC', 'IL', 'NY', 'VT']\n",
    "for i in state_list:\n",
    "    pa = business_data[business_data.state == (i)]\n",
    "    business_data_state = business_data_state.append(pa)"
   ]
  },
  {
   "cell_type": "code",
   "execution_count": 8,
   "metadata": {
    "collapsed": false
   },
   "outputs": [],
   "source": [
    "business_data = pd.DataFrame(business_data_state)"
   ]
  },
  {
   "cell_type": "code",
   "execution_count": 22,
   "metadata": {
    "collapsed": false
   },
   "outputs": [
    {
     "data": {
      "text/html": [
       "<div>\n",
       "<table border=\"1\" class=\"dataframe\">\n",
       "  <thead>\n",
       "    <tr style=\"text-align: right;\">\n",
       "      <th></th>\n",
       "      <th>address</th>\n",
       "      <th>attributes</th>\n",
       "      <th>business_id</th>\n",
       "      <th>categories</th>\n",
       "      <th>city</th>\n",
       "      <th>hours</th>\n",
       "      <th>latitude</th>\n",
       "      <th>longitude</th>\n",
       "      <th>name</th>\n",
       "      <th>neighborhood</th>\n",
       "      <th>postal_code</th>\n",
       "      <th>review_count</th>\n",
       "      <th>stars</th>\n",
       "      <th>state</th>\n",
       "    </tr>\n",
       "  </thead>\n",
       "  <tbody>\n",
       "    <tr>\n",
       "      <th>0</th>\n",
       "      <td>495 S Grand Central Pkwy</td>\n",
       "      <td>[BusinessAcceptsBitcoin: False, BusinessAccept...</td>\n",
       "      <td>LTlCaCGZE14GuaUXUGbamg</td>\n",
       "      <td>[Caterers, Grocery, Food, Event Planning &amp; Ser...</td>\n",
       "      <td>Las Vegas</td>\n",
       "      <td>[Monday 0:0-0:0, Tuesday 0:0-0:0, Wednesday 0:...</td>\n",
       "      <td>36.192284</td>\n",
       "      <td>-115.159272</td>\n",
       "      <td>Cut and Taste</td>\n",
       "      <td></td>\n",
       "      <td>89106</td>\n",
       "      <td>9</td>\n",
       "      <td>5.0</td>\n",
       "      <td>NV</td>\n",
       "    </tr>\n",
       "    <tr>\n",
       "      <th>1</th>\n",
       "      <td>4300 Meadows Ln</td>\n",
       "      <td>[BusinessAcceptsCreditCards: True, Restaurants...</td>\n",
       "      <td>AGN788ObhwXu7rb8MEejIA</td>\n",
       "      <td>[Shoe Stores, Fashion, Shopping]</td>\n",
       "      <td>Las Vegas</td>\n",
       "      <td>None</td>\n",
       "      <td>36.172259</td>\n",
       "      <td>-115.196324</td>\n",
       "      <td>Sheik Shoes</td>\n",
       "      <td>Westside</td>\n",
       "      <td>89107</td>\n",
       "      <td>4</td>\n",
       "      <td>1.5</td>\n",
       "      <td>NV</td>\n",
       "    </tr>\n",
       "    <tr>\n",
       "      <th>2</th>\n",
       "      <td>848 N Rainbow Blvd</td>\n",
       "      <td>[BusinessAcceptsCreditCards: True]</td>\n",
       "      <td>XK5w8XnbP8CdeoB44kn1bg</td>\n",
       "      <td>[Local Services, Notaries, Professional Servic...</td>\n",
       "      <td>Las Vegas</td>\n",
       "      <td>[Monday 9:0-17:0, Tuesday 9:0-17:0, Wednesday ...</td>\n",
       "      <td>36.180841</td>\n",
       "      <td>-115.241325</td>\n",
       "      <td>Mail Link</td>\n",
       "      <td></td>\n",
       "      <td>89107</td>\n",
       "      <td>14</td>\n",
       "      <td>4.0</td>\n",
       "      <td>NV</td>\n",
       "    </tr>\n",
       "    <tr>\n",
       "      <th>3</th>\n",
       "      <td>9931 W Charleston Blvd</td>\n",
       "      <td>[BusinessAcceptsCreditCards: True, ByAppointme...</td>\n",
       "      <td>U8_JrQdIpuTKw60vjc1-cw</td>\n",
       "      <td>[Hair Salons, Hair Stylists, Beauty &amp; Spas]</td>\n",
       "      <td>Las Vegas</td>\n",
       "      <td>[Thursday 9:0-20:0, Friday 9:0-20:0, Saturday ...</td>\n",
       "      <td>36.113712</td>\n",
       "      <td>-115.306365</td>\n",
       "      <td>Shear Happiness by Brittany</td>\n",
       "      <td>Spring Valley</td>\n",
       "      <td>89117</td>\n",
       "      <td>7</td>\n",
       "      <td>5.0</td>\n",
       "      <td>NV</td>\n",
       "    </tr>\n",
       "    <tr>\n",
       "      <th>4</th>\n",
       "      <td>7329 S Jones Blvd</td>\n",
       "      <td>[BusinessAcceptsCreditCards: True]</td>\n",
       "      <td>SGpnlO6TBpR_IFgOa3F8EQ</td>\n",
       "      <td>[Smog Check Stations, Automotive]</td>\n",
       "      <td>Las Vegas</td>\n",
       "      <td>None</td>\n",
       "      <td>36.056026</td>\n",
       "      <td>-115.225150</td>\n",
       "      <td>Jiffy Smog</td>\n",
       "      <td>Southwest</td>\n",
       "      <td>89139</td>\n",
       "      <td>9</td>\n",
       "      <td>2.5</td>\n",
       "      <td>NV</td>\n",
       "    </tr>\n",
       "  </tbody>\n",
       "</table>\n",
       "</div>"
      ],
      "text/plain": [
       "                    address  \\\n",
       "0  495 S Grand Central Pkwy   \n",
       "1           4300 Meadows Ln   \n",
       "2        848 N Rainbow Blvd   \n",
       "3    9931 W Charleston Blvd   \n",
       "4         7329 S Jones Blvd   \n",
       "\n",
       "                                          attributes             business_id  \\\n",
       "0  [BusinessAcceptsBitcoin: False, BusinessAccept...  LTlCaCGZE14GuaUXUGbamg   \n",
       "1  [BusinessAcceptsCreditCards: True, Restaurants...  AGN788ObhwXu7rb8MEejIA   \n",
       "2                 [BusinessAcceptsCreditCards: True]  XK5w8XnbP8CdeoB44kn1bg   \n",
       "3  [BusinessAcceptsCreditCards: True, ByAppointme...  U8_JrQdIpuTKw60vjc1-cw   \n",
       "4                 [BusinessAcceptsCreditCards: True]  SGpnlO6TBpR_IFgOa3F8EQ   \n",
       "\n",
       "                                          categories       city  \\\n",
       "0  [Caterers, Grocery, Food, Event Planning & Ser...  Las Vegas   \n",
       "1                   [Shoe Stores, Fashion, Shopping]  Las Vegas   \n",
       "2  [Local Services, Notaries, Professional Servic...  Las Vegas   \n",
       "3        [Hair Salons, Hair Stylists, Beauty & Spas]  Las Vegas   \n",
       "4                  [Smog Check Stations, Automotive]  Las Vegas   \n",
       "\n",
       "                                               hours   latitude   longitude  \\\n",
       "0  [Monday 0:0-0:0, Tuesday 0:0-0:0, Wednesday 0:...  36.192284 -115.159272   \n",
       "1                                               None  36.172259 -115.196324   \n",
       "2  [Monday 9:0-17:0, Tuesday 9:0-17:0, Wednesday ...  36.180841 -115.241325   \n",
       "3  [Thursday 9:0-20:0, Friday 9:0-20:0, Saturday ...  36.113712 -115.306365   \n",
       "4                                               None  36.056026 -115.225150   \n",
       "\n",
       "                          name   neighborhood postal_code  review_count  \\\n",
       "0                Cut and Taste                      89106             9   \n",
       "1                  Sheik Shoes       Westside       89107             4   \n",
       "2                    Mail Link                      89107            14   \n",
       "3  Shear Happiness by Brittany  Spring Valley       89117             7   \n",
       "4                   Jiffy Smog      Southwest       89139             9   \n",
       "\n",
       "   stars state  \n",
       "0    5.0    NV  \n",
       "1    1.5    NV  \n",
       "2    4.0    NV  \n",
       "3    5.0    NV  \n",
       "4    2.5    NV  "
      ]
     },
     "execution_count": 22,
     "metadata": {},
     "output_type": "execute_result"
    }
   ],
   "source": [
    "business_data = business_data.reset_index(drop=True)\n",
    "business_data.head()"
   ]
  }
 ],
 "metadata": {
  "anaconda-cloud": {},
  "kernelspec": {
   "display_name": "Python [conda root]",
   "language": "python",
   "name": "conda-root-py"
  },
  "language_info": {
   "codemirror_mode": {
    "name": "ipython",
    "version": 3
   },
   "file_extension": ".py",
   "mimetype": "text/x-python",
   "name": "python",
   "nbconvert_exporter": "python",
   "pygments_lexer": "ipython3",
   "version": "3.5.2"
  }
 },
 "nbformat": 4,
 "nbformat_minor": 1
}
